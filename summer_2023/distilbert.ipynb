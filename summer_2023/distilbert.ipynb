{
 "cells": [
  {
   "cell_type": "code",
   "execution_count": 1,
   "metadata": {},
   "outputs": [],
   "source": [
    "import re\n",
    "from nltk.tokenize import sent_tokenize, word_tokenize\n",
    "from transformers import DistilBertTokenizer, DistilBertForSequenceClassification"
   ]
  },
  {
   "cell_type": "code",
   "execution_count": null,
   "metadata": {},
   "outputs": [],
   "source": [
    "def remove_punc(pdf_content):\n",
    "    punc = ['• ', '· ', '&', '~', ' o ', '\\uf0a7', '\\uf03c', '\\uf0b7', \n",
    "            '–', '()', '[…]', '| ', '© ', '(Insert Scale)', '_', '%', '[', ']', 'Ü ']\n",
    "    for p in punc:\n",
    "        pdf_content = pdf_content.replace(p, '')\n",
    "    return pdf_content\n",
    "\n",
    "def remove_bulleted_points(pdf_content):\n",
    "    pdf_content = re.sub(r'\\.+ [0-9]+', '.', pdf_content)\n",
    "    pdf_content = re.sub(r'\\.+[0-9]+', '.', pdf_content)\n",
    "    pdf_content = re.sub(r'\\.+', '.', pdf_content)\n",
    "\n",
    "    pdf_content = re.sub(r'\\([0-9]+\\)', '', pdf_content)\n",
    "    pdf_content = re.sub(r'[0-9]+\\)', '', pdf_content)\n",
    "    pdf_content = re.sub(r'[0-9]+.', '', pdf_content)\n",
    "    pdf_content = re.sub(r'\\([a-zA-Z]\\)', '', pdf_content)\n",
    "    pdf_content = re.sub(r' [a-zA-Z]\\)', '', pdf_content)\n",
    "    pdf_content = re.sub(r'\\(i+\\)', '', pdf_content)\n",
    "    pdf_content = re.sub(r' i+\\)', '', pdf_content)\n",
    "\n",
    "    pdf_content = re.sub('\\s\\s+', ' ', pdf_content)\n",
    "    return pdf_content\n",
    "\n",
    "def remove_url(pdf_content):\n",
    "    url = re.findall('http[s]?://\\S+', pdf_content)\n",
    "    for u in url:\n",
    "        pdf_content = pdf_content.replace(u, '')\n",
    "    url = re.findall('www.\\S+', pdf_content)\n",
    "    for u in url:\n",
    "        pdf_content = pdf_content.replace(u, '')\n",
    "    pdf_content = re.sub(r'http[s]?://', '', pdf_content)\n",
    "    return pdf_content\n",
    "\n",
    "def filter_sentences_by_length(pdf_sentence):\n",
    "    return [s for s in pdf_sentence if len(word_tokenize(s)) > 4 and len(word_tokenize(s)) < 200]"
   ]
  },
  {
   "cell_type": "code",
   "execution_count": null,
   "metadata": {},
   "outputs": [],
   "source": []
  },
  {
   "cell_type": "code",
   "execution_count": null,
   "metadata": {},
   "outputs": [],
   "source": []
  },
  {
   "cell_type": "code",
   "execution_count": null,
   "metadata": {},
   "outputs": [],
   "source": []
  },
  {
   "cell_type": "code",
   "execution_count": null,
   "metadata": {},
   "outputs": [],
   "source": []
  },
  {
   "cell_type": "code",
   "execution_count": null,
   "metadata": {},
   "outputs": [],
   "source": []
  },
  {
   "cell_type": "code",
   "execution_count": null,
   "metadata": {},
   "outputs": [],
   "source": [
    "tokenizer = DistilBertTokenizer.from_pretrained('distilbert-base-uncased', do_lower_case=True)\n",
    "model = DistilBertForSequenceClassification.from_pretrained('distilbert-base-uncased', num_labels = 2)"
   ]
  },
  {
   "cell_type": "code",
   "execution_count": null,
   "metadata": {},
   "outputs": [],
   "source": []
  }
 ],
 "metadata": {
  "kernelspec": {
   "display_name": "ancestry",
   "language": "python",
   "name": "python3"
  },
  "language_info": {
   "codemirror_mode": {
    "name": "ipython",
    "version": 3
   },
   "file_extension": ".py",
   "mimetype": "text/x-python",
   "name": "python",
   "nbconvert_exporter": "python",
   "pygments_lexer": "ipython3",
   "version": "3.8.16"
  },
  "orig_nbformat": 4
 },
 "nbformat": 4,
 "nbformat_minor": 2
}
